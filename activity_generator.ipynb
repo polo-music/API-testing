{
  "nbformat": 4,
  "nbformat_minor": 0,
  "metadata": {
    "colab": {
      "name": "activity-generator.ipynb",
      "provenance": [],
      "authorship_tag": "ABX9TyOxpyb2kToIFetn/eh0a/Id",
      "include_colab_link": true
    },
    "kernelspec": {
      "name": "python3",
      "display_name": "Python 3"
    },
    "language_info": {
      "name": "python"
    }
  },
  "cells": [
    {
      "cell_type": "markdown",
      "metadata": {
        "id": "view-in-github",
        "colab_type": "text"
      },
      "source": [
        "<a href=\"https://colab.research.google.com/github/polo-music/API-testing/blob/main/activity_generator.ipynb\" target=\"_parent\"><img src=\"https://colab.research.google.com/assets/colab-badge.svg\" alt=\"Open In Colab\"/></a>"
      ]
    },
    {
      "cell_type": "code",
      "execution_count": 15,
      "metadata": {
        "colab": {
          "base_uri": "https://localhost:8080/"
        },
        "id": "HfmzxLCefFcZ",
        "outputId": "0b1ca366-89e9-461f-ab87-20a7b864ce54"
      },
      "outputs": [
        {
          "output_type": "stream",
          "name": "stdout",
          "text": [
            "{\n",
            "    \"accessibility\": 0.2,\n",
            "    \"activity\": \"Create and follow a savings plan\",\n",
            "    \"key\": \"9366464\",\n",
            "    \"link\": \"\",\n",
            "    \"participants\": 1,\n",
            "    \"price\": 0,\n",
            "    \"type\": \"busywork\"\n",
            "}\n"
          ]
        },
        {
          "output_type": "stream",
          "name": "stderr",
          "text": [
            "/usr/local/lib/python3.7/dist-packages/urllib3/connectionpool.py:847: InsecureRequestWarning: Unverified HTTPS request is being made. Adding certificate verification is strongly advised. See: https://urllib3.readthedocs.io/en/latest/advanced-usage.html#ssl-warnings\n",
            "  InsecureRequestWarning)\n"
          ]
        }
      ],
      "source": [
        "import requests, json\n",
        "\n",
        "# Define a function to fetch data from the API\n",
        "try:\n",
        "  req = requests.get('https://www.boredapi.com/api/activity/', verify = False)\n",
        "  if (req.status_code == 200):\n",
        "    print(json.dumps(req.json(), indent = 4, sort_keys = True))\n",
        "  else:\n",
        "    print(f'Error {req.status_code}')\n",
        "except requests.exceptions.RequestException as e:\n",
        "  print(f'Error {e}')"
      ]
    }
  ]
}